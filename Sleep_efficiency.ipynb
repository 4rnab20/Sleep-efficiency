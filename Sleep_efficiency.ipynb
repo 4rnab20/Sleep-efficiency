{
  "nbformat": 4,
  "nbformat_minor": 0,
  "metadata": {
    "colab": {
      "provenance": []
    },
    "kernelspec": {
      "name": "ir",
      "display_name": "R"
    },
    "language_info": {
      "name": "R"
    }
  },
  "cells": [
    {
      "cell_type": "markdown",
      "source": [
        "# Factors Affecting Sleep Efficiency in 18-30 Year Old Humans\n",
        "### Introduction:\n",
        "<br>\n",
        "\n",
        "#### Motivation:\n",
        "UBC students don’t often get the best sleep. We want to analyze various factors\n",
        "affecting sleep efficiency to help UBC students change behaviors to improve their sleep\n",
        "efficiency. So, our research question is: how is sleep duration, caffeine consumption,\n",
        "alcohol consumption, smoking status, and exercise frequency related to a 18-30 year\n",
        "old individual’s sleep efficiency?\n",
        "\n",
        "#### Dataset:\n",
        "The data being used is from the Kaggle’s Sleep Efficiency Dataset, found at this link:\n",
        "https://www.kaggle.com/datasets/equilibriumm/sleep-efficiency. The dataset has beenfiltered to only include subjects 18 to 30 years old inclusive. This dataset is an observational study on a group of test subjects and their daily life\n",
        "choices related to their sleep patterns.\n",
        "\n",
        "From this dataset, in order to explore our motivation and research question, the\n",
        "following variables will be further explored:\n",
        "\n",
        "> 1. Sleep efficiency (2 digit decimal number from 0.50-0.99, continuous): a measure of the proportion of time in bed spent asleep. Based on the dataset, no person spent less than 50% of their time in bed awake. This is our response variable.\n",
        "\n",
        "> 2. Sleep duration (hours, continuous): the total amount of time the test subject slept.\n",
        "\n",
        "> 3. Caffeine consumption (mg, continuous): the amount of caffeine consumed in the 24 hours prior to bedtime.\n",
        "\n",
        "> 4. Alcohol consumption (oz, continuous): the amount of alcohol consumed in the 24 hours prior to bedtime.\n",
        "\n",
        "> 5. Smoking status (yes or no, categorical): whether or not the test subject smokes.\n",
        "\n",
        "> 6. Exercise frequency (number from 0-7, continuous): the number of times the test subject exercises each week.\n",
        "\n",
        "The data above was chosen because we believed them to be independent without\n",
        "much collinearity. For example, REM sleep and deep sleep are dependent by\n",
        "observation since a person can only experience REM sleep if they fall into deep sleep.\n",
        "Hence, we excluded the following data from the dataset: REM sleep, deep sleep, light\n",
        "sleep, and awakenings. Also, the bedtime and waking time was not included because\n",
        "sleep duration was taken instead.\n",
        "\n",
        "<br><br>\n"
      ],
      "metadata": {
        "id": "IZHtjsUHbRMi"
      }
    },
    {
      "cell_type": "markdown",
      "source": [
        "### Importing the necessary libraries"
      ],
      "metadata": {
        "id": "iZ6VXO-rbfip"
      }
    },
    {
      "cell_type": "code",
      "source": [
        "library(dplyr)\n",
        "library(ggplot2)\n",
        "library(leaps)"
      ],
      "metadata": {
        "colab": {
          "base_uri": "https://localhost:8080/"
        },
        "id": "_1CagqwKbaiI",
        "outputId": "ad647602-2d8d-478d-96b3-60c494496cc2"
      },
      "execution_count": null,
      "outputs": [
        {
          "output_type": "stream",
          "name": "stderr",
          "text": [
            "\n",
            "Attaching package: ‘dplyr’\n",
            "\n",
            "\n",
            "The following objects are masked from ‘package:stats’:\n",
            "\n",
            "    filter, lag\n",
            "\n",
            "\n",
            "The following objects are masked from ‘package:base’:\n",
            "\n",
            "    intersect, setdiff, setequal, union\n",
            "\n",
            "\n"
          ]
        }
      ]
    },
    {
      "cell_type": "markdown",
      "source": [
        "### Analysis:\n",
        "Initial Analysis on Explanatory Variables:\n",
        "First, we will do an initial visualization of the explanatory variables on the responding\n",
        "variable (sleep efficiency) to get a better base understanding of how the explanatory\n",
        "variables interact with the responding variable.\n",
        "\n",
        "#### Read the data:"
      ],
      "metadata": {
        "id": "cvejwwceblZs"
      }
    },
    {
      "cell_type": "code",
      "source": [
        "sleep_data <- read.csv(\"sleep_efficiency_data.csv\")\n",
        "head(sleep_data)"
      ],
      "metadata": {
        "colab": {
          "base_uri": "https://localhost:8080/",
          "height": 514
        },
        "id": "VpqE_jWzb6Iw",
        "outputId": "0c585e85-ef13-4454-ca75-34f530e46f82"
      },
      "execution_count": null,
      "outputs": [
        {
          "output_type": "display_data",
          "data": {
            "text/html": [
              "<table class=\"dataframe\">\n",
              "<caption>A data.frame: 6 × 15</caption>\n",
              "<thead>\n",
              "\t<tr><th></th><th scope=col>ID</th><th scope=col>Age</th><th scope=col>Gender</th><th scope=col>Bedtime</th><th scope=col>Wakeup.time</th><th scope=col>Sleep.duration</th><th scope=col>Sleep.efficiency</th><th scope=col>REM.sleep.percentage</th><th scope=col>Deep.sleep.percentage</th><th scope=col>Light.sleep.percentage</th><th scope=col>Awakenings</th><th scope=col>Caffeine.consumption</th><th scope=col>Alcohol.consumption</th><th scope=col>Smoking.status</th><th scope=col>Exercise.frequency</th></tr>\n",
              "\t<tr><th></th><th scope=col>&lt;int&gt;</th><th scope=col>&lt;int&gt;</th><th scope=col>&lt;chr&gt;</th><th scope=col>&lt;chr&gt;</th><th scope=col>&lt;chr&gt;</th><th scope=col>&lt;dbl&gt;</th><th scope=col>&lt;dbl&gt;</th><th scope=col>&lt;int&gt;</th><th scope=col>&lt;int&gt;</th><th scope=col>&lt;int&gt;</th><th scope=col>&lt;dbl&gt;</th><th scope=col>&lt;dbl&gt;</th><th scope=col>&lt;dbl&gt;</th><th scope=col>&lt;chr&gt;</th><th scope=col>&lt;dbl&gt;</th></tr>\n",
              "</thead>\n",
              "<tbody>\n",
              "\t<tr><th scope=row>1</th><td>1</td><td>65</td><td>Female</td><td>2021-03-06 01:00:00</td><td>2021-03-06 07:00:00</td><td>6.0</td><td>0.88</td><td>18</td><td>70</td><td>12</td><td>0</td><td> 0</td><td>0</td><td>Yes</td><td>3</td></tr>\n",
              "\t<tr><th scope=row>2</th><td>2</td><td>69</td><td>Male  </td><td>2021-12-05 02:00:00</td><td>2021-12-05 09:00:00</td><td>7.0</td><td>0.66</td><td>19</td><td>28</td><td>53</td><td>3</td><td> 0</td><td>3</td><td>Yes</td><td>3</td></tr>\n",
              "\t<tr><th scope=row>3</th><td>3</td><td>40</td><td>Female</td><td>2021-05-25 21:30:00</td><td>2021-05-25 05:30:00</td><td>8.0</td><td>0.89</td><td>20</td><td>70</td><td>10</td><td>1</td><td> 0</td><td>0</td><td>No </td><td>3</td></tr>\n",
              "\t<tr><th scope=row>4</th><td>4</td><td>40</td><td>Female</td><td>2021-11-03 02:30:00</td><td>2021-11-03 08:30:00</td><td>6.0</td><td>0.51</td><td>23</td><td>25</td><td>52</td><td>3</td><td>50</td><td>5</td><td>Yes</td><td>1</td></tr>\n",
              "\t<tr><th scope=row>5</th><td>5</td><td>57</td><td>Male  </td><td>2021-03-13 01:00:00</td><td>2021-03-13 09:00:00</td><td>8.0</td><td>0.76</td><td>27</td><td>55</td><td>18</td><td>3</td><td> 0</td><td>3</td><td>No </td><td>3</td></tr>\n",
              "\t<tr><th scope=row>6</th><td>6</td><td>36</td><td>Female</td><td>2021-07-01 21:00:00</td><td>2021-07-01 04:30:00</td><td>7.5</td><td>0.90</td><td>23</td><td>60</td><td>17</td><td>0</td><td>NA</td><td>0</td><td>No </td><td>1</td></tr>\n",
              "</tbody>\n",
              "</table>\n"
            ],
            "text/markdown": "\nA data.frame: 6 × 15\n\n| <!--/--> | ID &lt;int&gt; | Age &lt;int&gt; | Gender &lt;chr&gt; | Bedtime &lt;chr&gt; | Wakeup.time &lt;chr&gt; | Sleep.duration &lt;dbl&gt; | Sleep.efficiency &lt;dbl&gt; | REM.sleep.percentage &lt;int&gt; | Deep.sleep.percentage &lt;int&gt; | Light.sleep.percentage &lt;int&gt; | Awakenings &lt;dbl&gt; | Caffeine.consumption &lt;dbl&gt; | Alcohol.consumption &lt;dbl&gt; | Smoking.status &lt;chr&gt; | Exercise.frequency &lt;dbl&gt; |\n|---|---|---|---|---|---|---|---|---|---|---|---|---|---|---|---|\n| 1 | 1 | 65 | Female | 2021-03-06 01:00:00 | 2021-03-06 07:00:00 | 6.0 | 0.88 | 18 | 70 | 12 | 0 |  0 | 0 | Yes | 3 |\n| 2 | 2 | 69 | Male   | 2021-12-05 02:00:00 | 2021-12-05 09:00:00 | 7.0 | 0.66 | 19 | 28 | 53 | 3 |  0 | 3 | Yes | 3 |\n| 3 | 3 | 40 | Female | 2021-05-25 21:30:00 | 2021-05-25 05:30:00 | 8.0 | 0.89 | 20 | 70 | 10 | 1 |  0 | 0 | No  | 3 |\n| 4 | 4 | 40 | Female | 2021-11-03 02:30:00 | 2021-11-03 08:30:00 | 6.0 | 0.51 | 23 | 25 | 52 | 3 | 50 | 5 | Yes | 1 |\n| 5 | 5 | 57 | Male   | 2021-03-13 01:00:00 | 2021-03-13 09:00:00 | 8.0 | 0.76 | 27 | 55 | 18 | 3 |  0 | 3 | No  | 3 |\n| 6 | 6 | 36 | Female | 2021-07-01 21:00:00 | 2021-07-01 04:30:00 | 7.5 | 0.90 | 23 | 60 | 17 | 0 | NA | 0 | No  | 1 |\n\n",
            "text/latex": "A data.frame: 6 × 15\n\\begin{tabular}{r|lllllllllllllll}\n  & ID & Age & Gender & Bedtime & Wakeup.time & Sleep.duration & Sleep.efficiency & REM.sleep.percentage & Deep.sleep.percentage & Light.sleep.percentage & Awakenings & Caffeine.consumption & Alcohol.consumption & Smoking.status & Exercise.frequency\\\\\n  & <int> & <int> & <chr> & <chr> & <chr> & <dbl> & <dbl> & <int> & <int> & <int> & <dbl> & <dbl> & <dbl> & <chr> & <dbl>\\\\\n\\hline\n\t1 & 1 & 65 & Female & 2021-03-06 01:00:00 & 2021-03-06 07:00:00 & 6.0 & 0.88 & 18 & 70 & 12 & 0 &  0 & 0 & Yes & 3\\\\\n\t2 & 2 & 69 & Male   & 2021-12-05 02:00:00 & 2021-12-05 09:00:00 & 7.0 & 0.66 & 19 & 28 & 53 & 3 &  0 & 3 & Yes & 3\\\\\n\t3 & 3 & 40 & Female & 2021-05-25 21:30:00 & 2021-05-25 05:30:00 & 8.0 & 0.89 & 20 & 70 & 10 & 1 &  0 & 0 & No  & 3\\\\\n\t4 & 4 & 40 & Female & 2021-11-03 02:30:00 & 2021-11-03 08:30:00 & 6.0 & 0.51 & 23 & 25 & 52 & 3 & 50 & 5 & Yes & 1\\\\\n\t5 & 5 & 57 & Male   & 2021-03-13 01:00:00 & 2021-03-13 09:00:00 & 8.0 & 0.76 & 27 & 55 & 18 & 3 &  0 & 3 & No  & 3\\\\\n\t6 & 6 & 36 & Female & 2021-07-01 21:00:00 & 2021-07-01 04:30:00 & 7.5 & 0.90 & 23 & 60 & 17 & 0 & NA & 0 & No  & 1\\\\\n\\end{tabular}\n",
            "text/plain": [
              "  ID Age Gender Bedtime             Wakeup.time         Sleep.duration\n",
              "1 1  65  Female 2021-03-06 01:00:00 2021-03-06 07:00:00 6.0           \n",
              "2 2  69  Male   2021-12-05 02:00:00 2021-12-05 09:00:00 7.0           \n",
              "3 3  40  Female 2021-05-25 21:30:00 2021-05-25 05:30:00 8.0           \n",
              "4 4  40  Female 2021-11-03 02:30:00 2021-11-03 08:30:00 6.0           \n",
              "5 5  57  Male   2021-03-13 01:00:00 2021-03-13 09:00:00 8.0           \n",
              "6 6  36  Female 2021-07-01 21:00:00 2021-07-01 04:30:00 7.5           \n",
              "  Sleep.efficiency REM.sleep.percentage Deep.sleep.percentage\n",
              "1 0.88             18                   70                   \n",
              "2 0.66             19                   28                   \n",
              "3 0.89             20                   70                   \n",
              "4 0.51             23                   25                   \n",
              "5 0.76             27                   55                   \n",
              "6 0.90             23                   60                   \n",
              "  Light.sleep.percentage Awakenings Caffeine.consumption Alcohol.consumption\n",
              "1 12                     0           0                   0                  \n",
              "2 53                     3           0                   3                  \n",
              "3 10                     1           0                   0                  \n",
              "4 52                     3          50                   5                  \n",
              "5 18                     3           0                   3                  \n",
              "6 17                     0          NA                   0                  \n",
              "  Smoking.status Exercise.frequency\n",
              "1 Yes            3                 \n",
              "2 Yes            3                 \n",
              "3 No             3                 \n",
              "4 Yes            1                 \n",
              "5 No             3                 \n",
              "6 No             1                 "
            ]
          },
          "metadata": {}
        }
      ]
    },
    {
      "cell_type": "markdown",
      "source": [
        "#### Filter for desired age group and remove blank fields:\n"
      ],
      "metadata": {
        "id": "Y6WJ165HcEoB"
      }
    },
    {
      "cell_type": "code",
      "source": [
        "sleep_data <- filter(sleep_data, Age <=30 & Age >=18)\n",
        "sleep_data <- na.omit(sleep_data)\n",
        "head(sleep_data)"
      ],
      "metadata": {
        "colab": {
          "base_uri": "https://localhost:8080/",
          "height": 514
        },
        "id": "3QJhcpdJcCqr",
        "outputId": "985cd55f-2247-467d-c7d8-7c6700b99b61"
      },
      "execution_count": null,
      "outputs": [
        {
          "output_type": "display_data",
          "data": {
            "text/html": [
              "<table class=\"dataframe\">\n",
              "<caption>A data.frame: 6 × 15</caption>\n",
              "<thead>\n",
              "\t<tr><th></th><th scope=col>ID</th><th scope=col>Age</th><th scope=col>Gender</th><th scope=col>Bedtime</th><th scope=col>Wakeup.time</th><th scope=col>Sleep.duration</th><th scope=col>Sleep.efficiency</th><th scope=col>REM.sleep.percentage</th><th scope=col>Deep.sleep.percentage</th><th scope=col>Light.sleep.percentage</th><th scope=col>Awakenings</th><th scope=col>Caffeine.consumption</th><th scope=col>Alcohol.consumption</th><th scope=col>Smoking.status</th><th scope=col>Exercise.frequency</th></tr>\n",
              "\t<tr><th></th><th scope=col>&lt;int&gt;</th><th scope=col>&lt;int&gt;</th><th scope=col>&lt;chr&gt;</th><th scope=col>&lt;chr&gt;</th><th scope=col>&lt;chr&gt;</th><th scope=col>&lt;dbl&gt;</th><th scope=col>&lt;dbl&gt;</th><th scope=col>&lt;int&gt;</th><th scope=col>&lt;int&gt;</th><th scope=col>&lt;int&gt;</th><th scope=col>&lt;dbl&gt;</th><th scope=col>&lt;dbl&gt;</th><th scope=col>&lt;dbl&gt;</th><th scope=col>&lt;chr&gt;</th><th scope=col>&lt;dbl&gt;</th></tr>\n",
              "</thead>\n",
              "<tbody>\n",
              "\t<tr><th scope=row>1</th><td> 7</td><td>27</td><td>Female</td><td>2021-07-21 21:00:00</td><td>2021-07-21 03:00:00</td><td>6.0</td><td>0.54</td><td>28</td><td>25</td><td>47</td><td>2</td><td>50</td><td>0</td><td>Yes</td><td>1</td></tr>\n",
              "\t<tr><th scope=row>2</th><td>13</td><td>30</td><td>Female</td><td>2021-08-07 02:30:00</td><td>2021-08-07 11:30:00</td><td>9.0</td><td>0.93</td><td>24</td><td>58</td><td>18</td><td>0</td><td>50</td><td>0</td><td>No </td><td>1</td></tr>\n",
              "\t<tr><th scope=row>3</th><td>14</td><td>28</td><td>Male  </td><td>2021-02-25 01:00:00</td><td>2021-02-25 09:30:00</td><td>8.5</td><td>0.64</td><td>28</td><td>25</td><td>47</td><td>4</td><td> 0</td><td>0</td><td>No </td><td>3</td></tr>\n",
              "\t<tr><th scope=row>4</th><td>17</td><td>21</td><td>Female</td><td>2021-03-24 01:00:00</td><td>2021-03-24 08:00:00</td><td>7.0</td><td>0.54</td><td>28</td><td>22</td><td>50</td><td>4</td><td> 0</td><td>2</td><td>Yes</td><td>0</td></tr>\n",
              "\t<tr><th scope=row>5</th><td>23</td><td>29</td><td>Female</td><td>2021-12-23 22:00:00</td><td>2021-12-23 06:00:00</td><td>8.0</td><td>0.84</td><td>23</td><td>60</td><td>17</td><td>2</td><td>75</td><td>0</td><td>No </td><td>2</td></tr>\n",
              "\t<tr><th scope=row>6</th><td>29</td><td>23</td><td>Male  </td><td>2021-11-08 21:30:00</td><td>2021-11-08 06:30:00</td><td>9.0</td><td>0.65</td><td>27</td><td>20</td><td>53</td><td>3</td><td> 0</td><td>0</td><td>No </td><td>3</td></tr>\n",
              "</tbody>\n",
              "</table>\n"
            ],
            "text/markdown": "\nA data.frame: 6 × 15\n\n| <!--/--> | ID &lt;int&gt; | Age &lt;int&gt; | Gender &lt;chr&gt; | Bedtime &lt;chr&gt; | Wakeup.time &lt;chr&gt; | Sleep.duration &lt;dbl&gt; | Sleep.efficiency &lt;dbl&gt; | REM.sleep.percentage &lt;int&gt; | Deep.sleep.percentage &lt;int&gt; | Light.sleep.percentage &lt;int&gt; | Awakenings &lt;dbl&gt; | Caffeine.consumption &lt;dbl&gt; | Alcohol.consumption &lt;dbl&gt; | Smoking.status &lt;chr&gt; | Exercise.frequency &lt;dbl&gt; |\n|---|---|---|---|---|---|---|---|---|---|---|---|---|---|---|---|\n| 1 |  7 | 27 | Female | 2021-07-21 21:00:00 | 2021-07-21 03:00:00 | 6.0 | 0.54 | 28 | 25 | 47 | 2 | 50 | 0 | Yes | 1 |\n| 2 | 13 | 30 | Female | 2021-08-07 02:30:00 | 2021-08-07 11:30:00 | 9.0 | 0.93 | 24 | 58 | 18 | 0 | 50 | 0 | No  | 1 |\n| 3 | 14 | 28 | Male   | 2021-02-25 01:00:00 | 2021-02-25 09:30:00 | 8.5 | 0.64 | 28 | 25 | 47 | 4 |  0 | 0 | No  | 3 |\n| 4 | 17 | 21 | Female | 2021-03-24 01:00:00 | 2021-03-24 08:00:00 | 7.0 | 0.54 | 28 | 22 | 50 | 4 |  0 | 2 | Yes | 0 |\n| 5 | 23 | 29 | Female | 2021-12-23 22:00:00 | 2021-12-23 06:00:00 | 8.0 | 0.84 | 23 | 60 | 17 | 2 | 75 | 0 | No  | 2 |\n| 6 | 29 | 23 | Male   | 2021-11-08 21:30:00 | 2021-11-08 06:30:00 | 9.0 | 0.65 | 27 | 20 | 53 | 3 |  0 | 0 | No  | 3 |\n\n",
            "text/latex": "A data.frame: 6 × 15\n\\begin{tabular}{r|lllllllllllllll}\n  & ID & Age & Gender & Bedtime & Wakeup.time & Sleep.duration & Sleep.efficiency & REM.sleep.percentage & Deep.sleep.percentage & Light.sleep.percentage & Awakenings & Caffeine.consumption & Alcohol.consumption & Smoking.status & Exercise.frequency\\\\\n  & <int> & <int> & <chr> & <chr> & <chr> & <dbl> & <dbl> & <int> & <int> & <int> & <dbl> & <dbl> & <dbl> & <chr> & <dbl>\\\\\n\\hline\n\t1 &  7 & 27 & Female & 2021-07-21 21:00:00 & 2021-07-21 03:00:00 & 6.0 & 0.54 & 28 & 25 & 47 & 2 & 50 & 0 & Yes & 1\\\\\n\t2 & 13 & 30 & Female & 2021-08-07 02:30:00 & 2021-08-07 11:30:00 & 9.0 & 0.93 & 24 & 58 & 18 & 0 & 50 & 0 & No  & 1\\\\\n\t3 & 14 & 28 & Male   & 2021-02-25 01:00:00 & 2021-02-25 09:30:00 & 8.5 & 0.64 & 28 & 25 & 47 & 4 &  0 & 0 & No  & 3\\\\\n\t4 & 17 & 21 & Female & 2021-03-24 01:00:00 & 2021-03-24 08:00:00 & 7.0 & 0.54 & 28 & 22 & 50 & 4 &  0 & 2 & Yes & 0\\\\\n\t5 & 23 & 29 & Female & 2021-12-23 22:00:00 & 2021-12-23 06:00:00 & 8.0 & 0.84 & 23 & 60 & 17 & 2 & 75 & 0 & No  & 2\\\\\n\t6 & 29 & 23 & Male   & 2021-11-08 21:30:00 & 2021-11-08 06:30:00 & 9.0 & 0.65 & 27 & 20 & 53 & 3 &  0 & 0 & No  & 3\\\\\n\\end{tabular}\n",
            "text/plain": [
              "  ID Age Gender Bedtime             Wakeup.time         Sleep.duration\n",
              "1  7 27  Female 2021-07-21 21:00:00 2021-07-21 03:00:00 6.0           \n",
              "2 13 30  Female 2021-08-07 02:30:00 2021-08-07 11:30:00 9.0           \n",
              "3 14 28  Male   2021-02-25 01:00:00 2021-02-25 09:30:00 8.5           \n",
              "4 17 21  Female 2021-03-24 01:00:00 2021-03-24 08:00:00 7.0           \n",
              "5 23 29  Female 2021-12-23 22:00:00 2021-12-23 06:00:00 8.0           \n",
              "6 29 23  Male   2021-11-08 21:30:00 2021-11-08 06:30:00 9.0           \n",
              "  Sleep.efficiency REM.sleep.percentage Deep.sleep.percentage\n",
              "1 0.54             28                   25                   \n",
              "2 0.93             24                   58                   \n",
              "3 0.64             28                   25                   \n",
              "4 0.54             28                   22                   \n",
              "5 0.84             23                   60                   \n",
              "6 0.65             27                   20                   \n",
              "  Light.sleep.percentage Awakenings Caffeine.consumption Alcohol.consumption\n",
              "1 47                     2          50                   0                  \n",
              "2 18                     0          50                   0                  \n",
              "3 47                     4           0                   0                  \n",
              "4 50                     4           0                   2                  \n",
              "5 17                     2          75                   0                  \n",
              "6 53                     3           0                   0                  \n",
              "  Smoking.status Exercise.frequency\n",
              "1 Yes            1                 \n",
              "2 No             1                 \n",
              "3 No             3                 \n",
              "4 Yes            0                 \n",
              "5 No             2                 \n",
              "6 No             3                 "
            ]
          },
          "metadata": {}
        }
      ]
    },
    {
      "cell_type": "markdown",
      "source": [
        "#### Factorize smoking status:\n"
      ],
      "metadata": {
        "id": "dHTw56IVcRuT"
      }
    },
    {
      "cell_type": "code",
      "source": [
        "sleep_data$Smoking.status<-as.factor(sleep_data$Smoking.status)\n"
      ],
      "metadata": {
        "id": "j4K3sYzucMfx"
      },
      "execution_count": null,
      "outputs": []
    },
    {
      "cell_type": "markdown",
      "source": [
        "#### Creating plots for initial analysis:\n",
        "\n",
        "##### Boxplot for sleep efficiency by smoking status:"
      ],
      "metadata": {
        "id": "BcXiyXSdclBi"
      }
    },
    {
      "cell_type": "code",
      "source": [
        "boxplot(Sleep.efficiency ~ Smoking.status, data = sleep_data,\n",
        "        xlab = \"Smoking Status\", ylab = \"Sleep Efficiency\",\n",
        "        main = \"Sleep Efficiency by Smoking Status\")"
      ],
      "metadata": {
        "colab": {
          "base_uri": "https://localhost:8080/",
          "height": 437
        },
        "id": "o9vRPOyuckj8",
        "outputId": "89ccfc05-a3ba-4988-8485-2f014d9df453"
      },
      "execution_count": null,
      "outputs": [
        {
          "output_type": "display_data",
          "data": {
            "text/plain": [
              "Plot with title “Sleep Efficiency by Smoking Status”"
            ],
            "image/png": "[encoded data removed]"
          },
          "metadata": {
            "image/png": {
              "width": 420,
              "height": 420
            }
          }
        }
      ]
    },
    {
      "cell_type": "markdown",
      "source": [
        "We can see that the median sleep efficiency for non-smokers is significantly higher than\n",
        "smokers. Also, the interquartile range (IQR) and overall range for smokers is also much\n",
        "higher than non-smokers. This suggests that non-smokers normally have higher sleep\n",
        "efficiency, and also have less variance in their sleep efficiency too."
      ],
      "metadata": {
        "id": "Bm85uzBgc1zV"
      }
    },
    {
      "cell_type": "markdown",
      "source": [
        "##### Scatterplot for sleep efficiency by Exercise frequency :"
      ],
      "metadata": {
        "id": "cBWibNatdGFq"
      }
    },
    {
      "cell_type": "code",
      "source": [
        "ggplot(sleep_data, aes(x = Exercise.frequency, y = Sleep.efficiency)) +\n",
        "  geom_point() +\n",
        "  labs(x = \"Exercise frequency\", y = \"Exercise frequency\",\n",
        "       title = \"Sleep Efficiency vs  Exercise frequency\")\n"
      ],
      "metadata": {
        "colab": {
          "base_uri": "https://localhost:8080/",
          "height": 437
        },
        "id": "JffwgE_LdOc0",
        "outputId": "34d78f67-e313-4471-d6f2-7af4a89ef992"
      },
      "execution_count": null,
      "outputs": [
        {
          "output_type": "display_data",
          "data": {
            "text/plain": [
              "plot without title"
            ],
            "image/png": "[encoded data removed]"
          },
          "metadata": {
            "image/png": {
              "width": 420,
              "height": 420
            }
          }
        }
      ]
    },
    {
      "cell_type": "markdown",
      "source": [
        "We see that for when exercise frequency is from 0-3 there does not seem to be a big\n",
        "difference in sleep efficiency, and there is also a lot of variation. When exercise\n",
        "frequency is 4 or 5, it appears as though there is a lot less variation, and also the sleep\n",
        "efficiency is consistently higher. However, it should be noted that this could largely be\n",
        "due to there being much less data for when exercise frequency is 4 or 5"
      ],
      "metadata": {
        "id": "I1MPzawLdUwc"
      }
    },
    {
      "cell_type": "markdown",
      "source": [
        "##### Scatterplot for sleep efficiency by Caffeine consumption:"
      ],
      "metadata": {
        "id": "AMT0BUpsdeE8"
      }
    },
    {
      "cell_type": "code",
      "source": [
        "ggplot(sleep_data, aes(x = Caffeine.consumption, y = Sleep.efficiency)) +\n",
        "  geom_point() +\n",
        "  labs(x = \"Caffeine Consumption\", y = \"Sleep Efficiency\",\n",
        "       title = \"Sleep Efficiency vs  Caffeine Consumption\")\n"
      ],
      "metadata": {
        "colab": {
          "base_uri": "https://localhost:8080/",
          "height": 437
        },
        "id": "FlQ68953dSE0",
        "outputId": "65abb477-68f8-4672-fc53-2c5b40c4275d"
      },
      "execution_count": null,
      "outputs": [
        {
          "output_type": "display_data",
          "data": {
            "text/plain": [
              "plot without title"
            ],
            "image/png": "[encoded data removed]"
          },
          "metadata": {
            "image/png": {
              "width": 420,
              "height": 420
            }
          }
        }
      ]
    },
    {
      "cell_type": "markdown",
      "source": [
        "##### Scatterplot for sleep efficiency by Alcohol consumption :"
      ],
      "metadata": {
        "id": "W1nMISpedlKC"
      }
    },
    {
      "cell_type": "code",
      "source": [
        "ggplot(sleep_data, aes(x = Alcohol.consumption, y = Sleep.efficiency)) +\n",
        "  geom_point() +\n",
        "  labs(x = \"Alcohol Consumption\", y = \"Sleep Efficiency\",\n",
        "       title = \"Sleep Efficiency vs Alcohol Consumption\")"
      ],
      "metadata": {
        "colab": {
          "base_uri": "https://localhost:8080/",
          "height": 437
        },
        "id": "PLiMWRpndpNp",
        "outputId": "c6abbf1d-7f9c-4974-b90b-01019a8cd097"
      },
      "execution_count": null,
      "outputs": [
        {
          "output_type": "display_data",
          "data": {
            "text/plain": [
              "plot without title"
            ],
            "image/png": "[encoded data removed]"
          },
          "metadata": {
            "image/png": {
              "width": 420,
              "height": 420
            }
          }
        }
      ]
    },
    {
      "cell_type": "markdown",
      "source": [
        "##### Scatterplot for sleep efficiency by Sleep duration :"
      ],
      "metadata": {
        "id": "oEYJSC63dpTO"
      }
    },
    {
      "cell_type": "code",
      "source": [
        "ggplot(sleep_data, aes(x = Sleep.duration, y = Sleep.efficiency)) +\n",
        "  geom_point() +\n",
        "  labs(x = \"Sleep duration\", y = \"Sleep Efficiency\",\n",
        "       title = \"Sleep Efficiency vs  Sleep duration\")"
      ],
      "metadata": {
        "colab": {
          "base_uri": "https://localhost:8080/",
          "height": 437
        },
        "id": "uYVSJBx7dpvA",
        "outputId": "d50cea74-bda7-4c92-ca34-40073ee124a7"
      },
      "execution_count": null,
      "outputs": [
        {
          "output_type": "display_data",
          "data": {
            "text/plain": [
              "plot without title"
            ],
            "image/png": "[encoded data removed]"
          },
          "metadata": {
            "image/png": {
              "width": 420,
              "height": 420
            }
          }
        }
      ]
    },
    {
      "cell_type": "markdown",
      "source": [
        "Through figures 3, 4, and 5 we see that there are no clear patterns or correlations for\n",
        "any of the explanatory variables, caffeine consumption, alcohol consumption, or sleep\n",
        "duration with the responding variable, sleep efficiency. This suggests that these\n",
        "explanatory variables may not have a large impact on sleep efficiency, as there are no\n",
        "clear relationships in these figures.\n",
        "\n",
        "<br><br>"
      ],
      "metadata": {
        "id": "Xd38tS_ad40C"
      }
    },
    {
      "cell_type": "markdown",
      "source": [
        "### Creating a Linear Model:\n"
      ],
      "metadata": {
        "id": "n6ovyqJPd6f1"
      }
    },
    {
      "cell_type": "markdown",
      "source": [
        "Next, we will find the best linear model we can for the explanatory variables and the\n",
        "responding variable.\n",
        "In order to find the optimal number of explanatory variables to include in our model, we\n",
        "can use regsubsets and then find the adjusted R^2 values when a different number of\n",
        "optimal explanatory variables are used:"
      ],
      "metadata": {
        "id": "cIizTyTSeFiI"
      }
    },
    {
      "cell_type": "markdown",
      "source": [
        "#### Creating the full model"
      ],
      "metadata": {
        "id": "C2ejOqJQeIEx"
      }
    },
    {
      "cell_type": "code",
      "source": [
        "full_model<-lm(Sleep.efficiency~Sleep.duration+Caffeine.consumption+Alcohol.consumption+Smoking.status+Exercise.frequency, data = sleep_data)\n",
        "summary(full_model)"
      ],
      "metadata": {
        "colab": {
          "base_uri": "https://localhost:8080/",
          "height": 433
        },
        "id": "Q2nUKWgQeEou",
        "outputId": "afeb044e-3dbb-45ea-d8fe-37908a41b034"
      },
      "execution_count": null,
      "outputs": [
        {
          "output_type": "display_data",
          "data": {
            "text/plain": [
              "\n",
              "Call:\n",
              "lm(formula = Sleep.efficiency ~ Sleep.duration + Caffeine.consumption + \n",
              "    Alcohol.consumption + Smoking.status + Exercise.frequency, \n",
              "    data = sleep_data)\n",
              "\n",
              "Residuals:\n",
              "      Min        1Q    Median        3Q       Max \n",
              "-0.240531 -0.092109  0.002833  0.102833  0.295796 \n",
              "\n",
              "Coefficients:\n",
              "                       Estimate Std. Error t value Pr(>|t|)    \n",
              "(Intercept)           0.7889146  0.1300172   6.068 2.39e-08 ***\n",
              "Sleep.duration        0.0022815  0.0162430   0.140  0.88858    \n",
              "Caffeine.consumption  0.0003285  0.0004317   0.761  0.44848    \n",
              "Alcohol.consumption  -0.0270667  0.0080226  -3.374  0.00106 ** \n",
              "Smoking.statusYes    -0.0797834  0.0276804  -2.882  0.00484 ** \n",
              "Exercise.frequency    0.0083589  0.0101719   0.822  0.41319    \n",
              "---\n",
              "Signif. codes:  0 ‘***’ 0.001 ‘**’ 0.01 ‘*’ 0.05 ‘.’ 0.1 ‘ ’ 1\n",
              "\n",
              "Residual standard error: 0.129 on 99 degrees of freedom\n",
              "Multiple R-squared:  0.2517,\tAdjusted R-squared:  0.2139 \n",
              "F-statistic: 6.659 on 5 and 99 DF,  p-value: 2.193e-05\n"
            ]
          },
          "metadata": {}
        }
      ]
    },
    {
      "cell_type": "markdown",
      "source": [
        "#### using regsubsets to find optimal model:"
      ],
      "metadata": {
        "id": "d39H0jHbeSm_"
      }
    },
    {
      "cell_type": "code",
      "source": [
        "s<-regsubsets(Sleep.efficiency~Exercise.frequency + Sleep.duration + Caffeine.consumption + Alcohol.consumption + Smoking.status, data = sleep_data, method=\"exhaustive\")\n",
        "ss<-summary(s)\n",
        "cat(\"Adjusted R2: \" , ss$adjr2, \"\\n\")\n",
        "cat(\"Mallows's Cp: \" , ss$cp)"
      ],
      "metadata": {
        "colab": {
          "base_uri": "https://localhost:8080/"
        },
        "id": "poed32U_eaHb",
        "outputId": "0a2241d3-b70f-4e0e-9b66-4b07fb756ba0"
      },
      "execution_count": null,
      "outputs": [
        {
          "output_type": "stream",
          "name": "stdout",
          "text": [
            "Adjusted R2:  0.1629137 0.2273731 0.2249049 0.2215853 0.2138791 \n",
            "Mallows's Cp:  8.67765 1.249147 2.583417 4.019729 6"
          ]
        }
      ]
    },
    {
      "cell_type": "markdown",
      "source": [
        "From here, we see that using 2 variables produces the highest adjusted R^2 value and\n",
        "also the lowest cp value, so it is the most optimal. Although one thing to note is the\n",
        "adjusted R^2 value is still only ~ 0.23, however this is still okay because this study is\n",
        "trying to explain human behavior, which has a lot of unexplainable variation and causes\n",
        "the R^2 value to be lower (usually less than 0.5).\n",
        "\n",
        "Next, we can use the exhaustive regsubsets method to find which 2 explanatory\n",
        "variables to include in our model:"
      ],
      "metadata": {
        "id": "mWSQNuxRfhw2"
      }
    },
    {
      "cell_type": "code",
      "source": [
        "ss$which\n"
      ],
      "metadata": {
        "colab": {
          "base_uri": "https://localhost:8080/",
          "height": 223
        },
        "id": "8fVsJbSSeif0",
        "outputId": "3a910ca6-b4d9-4c95-e9bf-ab6861dd5283"
      },
      "execution_count": null,
      "outputs": [
        {
          "output_type": "display_data",
          "data": {
            "text/html": [
              "<table class=\"dataframe\">\n",
              "<caption>A matrix: 5 × 6 of type lgl</caption>\n",
              "<thead>\n",
              "\t<tr><th></th><th scope=col>(Intercept)</th><th scope=col>Exercise.frequency</th><th scope=col>Sleep.duration</th><th scope=col>Caffeine.consumption</th><th scope=col>Alcohol.consumption</th><th scope=col>Smoking.statusYes</th></tr>\n",
              "</thead>\n",
              "<tbody>\n",
              "\t<tr><th scope=row>1</th><td>TRUE</td><td>FALSE</td><td>FALSE</td><td>FALSE</td><td>TRUE</td><td>FALSE</td></tr>\n",
              "\t<tr><th scope=row>2</th><td>TRUE</td><td>FALSE</td><td>FALSE</td><td>FALSE</td><td>TRUE</td><td> TRUE</td></tr>\n",
              "\t<tr><th scope=row>3</th><td>TRUE</td><td> TRUE</td><td>FALSE</td><td>FALSE</td><td>TRUE</td><td> TRUE</td></tr>\n",
              "\t<tr><th scope=row>4</th><td>TRUE</td><td> TRUE</td><td>FALSE</td><td> TRUE</td><td>TRUE</td><td> TRUE</td></tr>\n",
              "\t<tr><th scope=row>5</th><td>TRUE</td><td> TRUE</td><td> TRUE</td><td> TRUE</td><td>TRUE</td><td> TRUE</td></tr>\n",
              "</tbody>\n",
              "</table>\n"
            ],
            "text/markdown": "\nA matrix: 5 × 6 of type lgl\n\n| <!--/--> | (Intercept) | Exercise.frequency | Sleep.duration | Caffeine.consumption | Alcohol.consumption | Smoking.statusYes |\n|---|---|---|---|---|---|---|\n| 1 | TRUE | FALSE | FALSE | FALSE | TRUE | FALSE |\n| 2 | TRUE | FALSE | FALSE | FALSE | TRUE |  TRUE |\n| 3 | TRUE |  TRUE | FALSE | FALSE | TRUE |  TRUE |\n| 4 | TRUE |  TRUE | FALSE |  TRUE | TRUE |  TRUE |\n| 5 | TRUE |  TRUE |  TRUE |  TRUE | TRUE |  TRUE |\n\n",
            "text/latex": "A matrix: 5 × 6 of type lgl\n\\begin{tabular}{r|llllll}\n  & (Intercept) & Exercise.frequency & Sleep.duration & Caffeine.consumption & Alcohol.consumption & Smoking.statusYes\\\\\n\\hline\n\t1 & TRUE & FALSE & FALSE & FALSE & TRUE & FALSE\\\\\n\t2 & TRUE & FALSE & FALSE & FALSE & TRUE &  TRUE\\\\\n\t3 & TRUE &  TRUE & FALSE & FALSE & TRUE &  TRUE\\\\\n\t4 & TRUE &  TRUE & FALSE &  TRUE & TRUE &  TRUE\\\\\n\t5 & TRUE &  TRUE &  TRUE &  TRUE & TRUE &  TRUE\\\\\n\\end{tabular}\n",
            "text/plain": [
              "  (Intercept) Exercise.frequency Sleep.duration Caffeine.consumption\n",
              "1 TRUE        FALSE              FALSE          FALSE               \n",
              "2 TRUE        FALSE              FALSE          FALSE               \n",
              "3 TRUE         TRUE              FALSE          FALSE               \n",
              "4 TRUE         TRUE              FALSE           TRUE               \n",
              "5 TRUE         TRUE               TRUE           TRUE               \n",
              "  Alcohol.consumption Smoking.statusYes\n",
              "1 TRUE                FALSE            \n",
              "2 TRUE                 TRUE            \n",
              "3 TRUE                 TRUE            \n",
              "4 TRUE                 TRUE            \n",
              "5 TRUE                 TRUE            "
            ]
          },
          "metadata": {}
        }
      ]
    },
    {
      "cell_type": "markdown",
      "source": [
        "So, we see that the 2 statistically most important explanatory variables are: alcohol\n",
        "consumption and smoking status, and the intercept is also statistically important.\n",
        "\n",
        "Now, we can create an optimal model using the most important explanatory variables discovered above."
      ],
      "metadata": {
        "id": "Qo_8QiJKfvbt"
      }
    },
    {
      "cell_type": "code",
      "source": [
        "opt_model <- lm(Sleep.efficiency~Alcohol.consumption + Smoking.status, data = sleep_data)\n",
        "summary(opt_model)"
      ],
      "metadata": {
        "colab": {
          "base_uri": "https://localhost:8080/",
          "height": 364
        },
        "id": "SGQKhISif5iN",
        "outputId": "1a05d32a-e326-4458-9eec-77f85c22cfce"
      },
      "execution_count": null,
      "outputs": [
        {
          "output_type": "display_data",
          "data": {
            "text/plain": [
              "\n",
              "Call:\n",
              "lm(formula = Sleep.efficiency ~ Alcohol.consumption + Smoking.status, \n",
              "    data = sleep_data)\n",
              "\n",
              "Residuals:\n",
              "      Min        1Q    Median        3Q       Max \n",
              "-0.241386 -0.100197  0.007854  0.106091  0.289803 \n",
              "\n",
              "Coefficients:\n",
              "                    Estimate Std. Error t value Pr(>|t|)    \n",
              "(Intercept)          0.83215    0.01743  47.736  < 2e-16 ***\n",
              "Alcohol.consumption -0.02824    0.00712  -3.966 0.000136 ***\n",
              "Smoking.statusYes   -0.08076    0.02608  -3.097 0.002523 ** \n",
              "---\n",
              "Signif. codes:  0 ‘***’ 0.001 ‘**’ 0.01 ‘*’ 0.05 ‘.’ 0.1 ‘ ’ 1\n",
              "\n",
              "Residual standard error: 0.1279 on 102 degrees of freedom\n",
              "Multiple R-squared:  0.2422,\tAdjusted R-squared:  0.2274 \n",
              "F-statistic:  16.3 on 2 and 102 DF,  p-value: 7.184e-07\n"
            ]
          },
          "metadata": {}
        }
      ]
    },
    {
      "cell_type": "markdown",
      "source": [
        "The optimal model has a slightly higher adjusted R^2, lower residual standard error, and\n",
        "also all of the p values for the explanatory variables in the optimal model are significant\n",
        "(at < 0.01), whereas the p values for sleep duration, caffeine consumption, and exercise\n",
        "frequency are all > 0.4 in the full model. Additionally, the intercept has a lower p value\n",
        "too in the optimal model. All of this suggests that the optimal model created is a better fit\n",
        "for the data, and the full model contains variables that are not statistically important.\n",
        "\n",
        "Furthermore, the optimal model we have found is:\n",
        "\n",
        "<br>\n",
        "\n",
        "**y = 0.83215 - 0.02824x<sub>1</sub> - 0.08076x<sub>2</sub>**\n",
        "\n",
        "<br>\n",
        "Where y is the predicted sleep efficiency, x<sub>1</sub> is alcohol consumption in oz and x<sub>2</sub> is 1 if the person smokes and 0 if the person does not smoke.\n",
        "\n",
        "This model has an adjusted R^2 of 0.2274 and a residual standard error of 0.1279.\n",
        "\n"
      ],
      "metadata": {
        "id": "qJSb5O2SgLvP"
      }
    },
    {
      "cell_type": "markdown",
      "source": [
        "<br><br>"
      ],
      "metadata": {
        "id": "F0vC79zDhjrD"
      }
    },
    {
      "cell_type": "markdown",
      "source": [
        "### Conclusion:\n"
      ],
      "metadata": {
        "id": "wD8ZnU1-hiB1"
      }
    },
    {
      "cell_type": "markdown",
      "source": [
        "From the analysis of the dataset, out of all of the explanatory variables analyzed (smoking status, exercise frequency, caffeine consumption, alcohol consumption, and sleep duration), the best explainers for sleep efficiency for 18-30 year olds are: alcohol consumption and whether the person smokes or not. Both of these have a negative correlation with sleep efficiency, as found in the final optimal model:\n",
        "\n",
        "<br>\n",
        "\n",
        "**y = 0.83215 - 0.02824x<sub>1</sub> - 0.08076x<sub>2</sub>**\n",
        "\n",
        "<br>\n",
        "where y is the predicted sleep efficiency, x<sub>1</sub> is alcohol consumption in oz and x<sub>2</sub> is 1 if the person smokes and 0 if the person does not smoke.\n",
        "\n",
        "<br>\n",
        "<br>\n",
        "\n",
        "This means that a person who consumes more alcohol and/or smokes will have poorer sleep efficiency. Thus, people between 18-30 years old should try to avoid alcohol and smoking. This intuitively makes sense, as it is known that alcohol and smoking has many damaging effects on the body, one of those being on your sleep.\n",
        "\n",
        "However, one important comment of interest is that the optimal model had a relatively low adjusted R^2 of only 0.2274. Even though this is to be expected with human behavioral models, since human behavior is unpredictable and influenced by many factors, such that the adjusted R^2 will generally be <0.5. This may still suggest that the optimal model is not a great fit and there are other factors affecting sleep efficiency.\n",
        "\n",
        "Another important comment of interest is that the optimal model says that exercise frequency, caffeine consumption, and sleep duration is not statistically important to sleep efficiency. However, this might be because for these explanatory variables, there were not a lot of data points in the extreme ends. For example, there is only 1 point for caffeine consumption > 100mg, few points for exercise frequency > 3 per week, and most sleep duration data points were between 6-9 hours. Thus, these few data points may not be explaining the response compared to a larger data set with values in more extreme ranges.\n",
        "\n",
        "In conclusion, as UBC students tend to be between 18-30 years old, based on the results of the study, we recommend UBC students reduce their alcohol consumption and quit smoking to get a better sleep efficiency.\n"
      ],
      "metadata": {
        "id": "dnHi0hrqhlQR"
      }
    }
  ]
}
